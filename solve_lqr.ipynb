{
 "cells": [
  {
   "cell_type": "code",
   "execution_count": null,
   "metadata": {},
   "outputs": [],
   "source": [
    "import torch\n",
    "import numpy as np\n",
    "\n",
    "from lqr_solver import LQRSolver"
   ]
  },
  {
   "attachments": {},
   "cell_type": "markdown",
   "metadata": {},
   "source": [
    "## System parameters (DC motor)"
   ]
  },
  {
   "cell_type": "code",
   "execution_count": null,
   "metadata": {},
   "outputs": [],
   "source": [
    "DIM_X = 2\n",
    "DIM_Y = 1\n",
    "\n",
    "# Model constants\n",
    "Ra = 1.9\n",
    "La = 0.0226\n",
    "Km = 1.1902\n",
    "J = 0.035\n",
    "C = 0.0035\n",
    "\n",
    "# Dynamics matrices\n",
    "A = torch.tensor(((-C/J, Km/J), \n",
    "                  (-Km/La, -Ra/La)))\n",
    "B = torch.tensor((0., 1 / La))\n",
    "\n",
    "# Transition matrices\n",
    "dt = 0.001\n",
    "A = (torch.eye(2) + A * dt)\n",
    "B = B * dt"
   ]
  },
  {
   "attachments": {},
   "cell_type": "markdown",
   "metadata": {},
   "source": [
    "## LQR solver settings"
   ]
  },
  {
   "cell_type": "code",
   "execution_count": null,
   "metadata": {},
   "outputs": [],
   "source": [
    "# LQR properties\n",
    "solver = LQRSolver(dim_x=DIM_X, dim_u=DIM_Y)\n",
    "\n",
    "# Update solver matrices\n",
    "solver.A = torch.matmul(solver.A, A)\n",
    "solver.B = solver.B + B.reshape(solver.B.shape)"
   ]
  },
  {
   "attachments": {},
   "cell_type": "markdown",
   "metadata": {},
   "source": [
    "## LQR solution reference"
   ]
  },
  {
   "cell_type": "code",
   "execution_count": null,
   "metadata": {},
   "outputs": [],
   "source": [
    "from control import dlqr\n",
    "\n",
    "K, P, _ = dlqr(solver.A.numpy(),\n",
    "               solver.B.numpy(), \n",
    "               solver.Q.numpy(), \n",
    "               solver.R.numpy())\n",
    "K = torch.tensor(K)"
   ]
  },
  {
   "attachments": {},
   "cell_type": "markdown",
   "metadata": {},
   "source": [
    "## Solve LQR with backpropagation"
   ]
  },
  {
   "cell_type": "code",
   "execution_count": null,
   "metadata": {},
   "outputs": [],
   "source": [
    "EPOCHS = 1000\n",
    "BATCH_SIZE = 100\n",
    "TIME_HORIZON = 100\n",
    "\n",
    "# Choose optimizer\n",
    "# optimizer = torch.optim.SGD([{\"params\": solver.parameters()}], lr=0.1)\n",
    "optimizer = torch.optim.AdamW([{\"params\": solver.parameters()}], lr=0.1, weight_decay=0.01)\n",
    "\n",
    "for epoch in range(EPOCHS):\n",
    "    optimizer.zero_grad()\n",
    "    \n",
    "    # Generate random set of initial conditions\n",
    "    x = torch.randn(2, BATCH_SIZE)\n",
    "\n",
    "    loss = 0.0\n",
    "    for i in range(TIME_HORIZON):\n",
    "        # Compute control action via Ricatti euqation variable 'P'\n",
    "        u = solver.forward(x)\n",
    "        # Compute loss as : xT Q x + uT R u\n",
    "        state_cost = torch.matmul(x.T, torch.matmul(solver.Q, x)) \n",
    "        action_cost = torch.matmul(u.T, torch.matmul(solver.R, u))\n",
    "        # Accumulate loss\n",
    "        loss += (state_cost + action_cost).sum() / (TIME_HORIZON * BATCH_SIZE)\n",
    "        # Get next system state\n",
    "        x = torch.matmul(solver.A, x) + torch.matmul(solver.B, u)\n",
    "\n",
    "    loss.backward()\n",
    "    optimizer.step()\n",
    "\n",
    "    with torch.no_grad():\n",
    "        if epoch % 10 == 0:\n",
    "            # Compute P by definition\n",
    "            P = torch.matmul(solver.P_sqrt, solver.P_sqrt.T)\n",
    "\n",
    "            # Solve for Ricatti equation to get LQR gain 'K'\n",
    "            A = solver.R + torch.matmul(solver.B.T, torch.matmul(P, solver.B))\n",
    "            B = torch.matmul(solver.B.T, torch.matmul(P, solver.A))\n",
    "            K_backprop = torch.linalg.solve(A, B)\n",
    "\n",
    "            # Output difference of analytic solution and backprop\n",
    "            l2_diff = torch.linalg.norm(K - K_backprop)\n",
    "            print(f\"# {epoch}, L2 difference: {l2_diff} \\n\")\n",
    "print(f\"real K : {K}, backprop K : {K_backprop}\")"
   ]
  },
  {
   "cell_type": "code",
   "execution_count": null,
   "metadata": {},
   "outputs": [],
   "source": []
  }
 ],
 "metadata": {
  "kernelspec": {
   "display_name": "basic-python",
   "language": "python",
   "name": "python3"
  },
  "language_info": {
   "codemirror_mode": {
    "name": "ipython",
    "version": 3
   },
   "file_extension": ".py",
   "mimetype": "text/x-python",
   "name": "python",
   "nbconvert_exporter": "python",
   "pygments_lexer": "ipython3",
   "version": "3.10.9"
  },
  "orig_nbformat": 4
 },
 "nbformat": 4,
 "nbformat_minor": 2
}
